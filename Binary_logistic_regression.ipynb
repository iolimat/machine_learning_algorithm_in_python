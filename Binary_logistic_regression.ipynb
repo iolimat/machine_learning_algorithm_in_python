{
  "nbformat": 4,
  "nbformat_minor": 0,
  "metadata": {
    "colab": {
      "provenance": [],
      "collapsed_sections": []
    },
    "kernelspec": {
      "name": "python3",
      "display_name": "Python 3"
    },
    "language_info": {
      "name": "python"
    }
  },
  "cells": [
    {
      "cell_type": "markdown",
      "source": [
        "# Binary logistic regression"
      ],
      "metadata": {
        "id": "ZJ1Z7QhL57NF"
      }
    },
    {
      "cell_type": "code",
      "source": [
        "import numpy as np\n",
        "from sklearn.linear_model import LogisticRegression\n",
        "from sklearn.model_selection import train_test_split\n",
        "from sklearn import datasets"
      ],
      "metadata": {
        "id": "3nA56t0y2I-J"
      },
      "execution_count": 14,
      "outputs": []
    },
    {
      "cell_type": "code",
      "source": [
        "def sigmoid(z):\n",
        "  return 1 / (1 + np.exp(-z))"
      ],
      "metadata": {
        "id": "T5V7MYdVqMjA"
      },
      "execution_count": 15,
      "outputs": []
    },
    {
      "cell_type": "markdown",
      "source": [
        "### Algorithm"
      ],
      "metadata": {
        "id": "aAipUEbl3S8a"
      }
    },
    {
      "cell_type": "code",
      "execution_count": 16,
      "metadata": {
        "id": "M49Vwac-09le"
      },
      "outputs": [],
      "source": [
        "class Logreg:\n",
        "  def __init__(self,learningrate,NumberOfIteration):\n",
        "    self.weight=None\n",
        "    self.bias=0.0\n",
        "    self.lr=learningrate\n",
        "    self.numofitr=NumberOfIteration\n",
        "  def predict(self,X):\n",
        "    linear_model = self.linear_predict(X)\n",
        "    y_predicted = sigmoid(linear_model)\n",
        "    return np.array([1 if i > 0.5 else 0 for i in y_predicted])\n",
        "  def linear_predict(self,X):\n",
        "    return np.dot(X,self.weight)+self.bias\n",
        "  def fit(self, X, y):\n",
        "    N = X.shape[0]\n",
        "    self.weight = np.zeros(X.shape[1])\n",
        "    for _ in range(self.numofitr):\n",
        "      linear_model = self.linear_predict(X)\n",
        "      y_predicted = sigmoid(linear_model)\n",
        "      self.bias -= self.lr * (1 / N) * np.sum(y_predicted - y)\n",
        "      self.weight -= self.lr * (1 / N) * np.dot(X.T, (y_predicted - y))"
      ]
    },
    {
      "cell_type": "markdown",
      "source": [
        "### Test"
      ],
      "metadata": {
        "id": "_Sj7-edB3JAi"
      }
    },
    {
      "cell_type": "code",
      "source": [
        "bc = datasets.load_breast_cancer()\n",
        "X, y = bc.data, bc.target\n",
        "X_train, X_test, y_train, y_test = train_test_split(X, y, test_size=0.2, random_state=1234)"
      ],
      "metadata": {
        "id": "Zx1zBlaj9e89"
      },
      "execution_count": 17,
      "outputs": []
    },
    {
      "cell_type": "code",
      "source": [
        "#our algorithm\n",
        "model = Logreg(0.001,8000)\n",
        "model.fit(X_train, y_train)\n",
        "sum(model.predict(X_test) == y_test)/len(y_test)"
      ],
      "metadata": {
        "colab": {
          "base_uri": "https://localhost:8080/"
        },
        "id": "yfXzzVFu0s9q",
        "outputId": "eb386f34-272b-4e7a-f214-4666ed31dae3"
      },
      "execution_count": 18,
      "outputs": [
        {
          "output_type": "stream",
          "name": "stderr",
          "text": [
            "/usr/local/lib/python3.7/dist-packages/ipykernel_launcher.py:2: RuntimeWarning: overflow encountered in exp\n",
            "  \n"
          ]
        },
        {
          "output_type": "execute_result",
          "data": {
            "text/plain": [
              "0.9122807017543859"
            ]
          },
          "metadata": {},
          "execution_count": 18
        }
      ]
    },
    {
      "cell_type": "code",
      "source": [
        "#sklearn algorithm\n",
        "model = LogisticRegression()\n",
        "model.fit(X_train, y_train)\n",
        "sum(model.predict(X_test) == y_test)/len(y_test)"
      ],
      "metadata": {
        "colab": {
          "base_uri": "https://localhost:8080/"
        },
        "id": "BMhuGPaNBoP7",
        "outputId": "69d25cd1-9af3-426f-c20a-1a2e830a09ee"
      },
      "execution_count": 19,
      "outputs": [
        {
          "output_type": "stream",
          "name": "stderr",
          "text": [
            "/usr/local/lib/python3.7/dist-packages/sklearn/linear_model/_logistic.py:818: ConvergenceWarning: lbfgs failed to converge (status=1):\n",
            "STOP: TOTAL NO. of ITERATIONS REACHED LIMIT.\n",
            "\n",
            "Increase the number of iterations (max_iter) or scale the data as shown in:\n",
            "    https://scikit-learn.org/stable/modules/preprocessing.html\n",
            "Please also refer to the documentation for alternative solver options:\n",
            "    https://scikit-learn.org/stable/modules/linear_model.html#logistic-regression\n",
            "  extra_warning_msg=_LOGISTIC_SOLVER_CONVERGENCE_MSG,\n"
          ]
        },
        {
          "output_type": "execute_result",
          "data": {
            "text/plain": [
              "0.9385964912280702"
            ]
          },
          "metadata": {},
          "execution_count": 19
        }
      ]
    }
  ]
}