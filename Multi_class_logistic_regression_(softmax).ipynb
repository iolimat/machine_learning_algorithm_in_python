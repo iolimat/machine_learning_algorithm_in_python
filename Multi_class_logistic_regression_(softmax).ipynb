{
  "nbformat": 4,
  "nbformat_minor": 0,
  "metadata": {
    "colab": {
      "provenance": [],
      "collapsed_sections": []
    },
    "kernelspec": {
      "name": "python3",
      "display_name": "Python 3"
    },
    "language_info": {
      "name": "python"
    }
  },
  "cells": [
    {
      "cell_type": "markdown",
      "source": [
        "# Multi-class logistic regression (softmax)"
      ],
      "metadata": {
        "id": "LD0F9bwB5aZA"
      }
    },
    {
      "cell_type": "code",
      "source": [
        "import numpy as np\n",
        "from sklearn.model_selection import train_test_split\n",
        "from sklearn.datasets import load_iris\n",
        "from sklearn.linear_model import LogisticRegression"
      ],
      "metadata": {
        "id": "r5S_f9njWOh_"
      },
      "execution_count": 8,
      "outputs": []
    },
    {
      "cell_type": "code",
      "source": [
        "def softmax(Z):\n",
        "  return np.exp(Z)/np.sum(np.exp(Z),axis=1).reshape(-1,1)"
      ],
      "metadata": {
        "id": "XGBeeTcY2W5o"
      },
      "execution_count": 9,
      "outputs": []
    },
    {
      "cell_type": "code",
      "source": [
        "def onehot(Y): #onehot encoder\n",
        "  classes=np.unique(Y)\n",
        "  classes_n=len(classes)\n",
        "  n=Y.shape[0]\n",
        "  result=np.zeros((n,classes_n))\n",
        "  for i in range(classes_n):\n",
        "    for j in range(n):\n",
        "      if Y[j]==classes[i]:\n",
        "        result[j][i]=1\n",
        "  return result"
      ],
      "metadata": {
        "id": "8otgnx33hvhh"
      },
      "execution_count": 10,
      "outputs": []
    },
    {
      "cell_type": "markdown",
      "source": [
        "### Algorithm"
      ],
      "metadata": {
        "id": "Yl99SdnI3UrE"
      }
    },
    {
      "cell_type": "code",
      "execution_count": 11,
      "metadata": {
        "id": "UYhxDP4MWLyb"
      },
      "outputs": [],
      "source": [
        "class LogRegS:\n",
        "  def __init__(self,LearningRate,NumberOfIteration):\n",
        "    self.weight=None\n",
        "    self.bias=0.0\n",
        "    self.lr=LearningRate\n",
        "    self.numofitr=NumberOfIteration\n",
        "  def predict(self, X):\n",
        "    linear_model = self.linear_predict(X)\n",
        "    y_predicted = softmax(-linear_model)\n",
        "    return np.argmax(y_predicted, axis=1)\n",
        "  def linear_predict(self,X):\n",
        "    return np.dot(X,self.weight)+self.bias\n",
        "  def fit(self, X, Y):\n",
        "    N = X.shape[0]\n",
        "    Y_onehot = onehot(Y)\n",
        "    self.weight = np.zeros((X.shape[1], Y_onehot.shape[1]))\n",
        "    for _ in range(self.numofitr):\n",
        "      linear_model=self.linear_predict(X)\n",
        "      y_predicted = softmax(-linear_model)\n",
        "      self.bias = self.bias - (self.lr / N) * sum(Y_onehot-y_predicted)\n",
        "      self.weight -= 1/N * (np.dot(X.T , (Y_onehot - y_predicted))) + self.bias * self.lr"
      ]
    },
    {
      "cell_type": "markdown",
      "source": [
        "### Test"
      ],
      "metadata": {
        "id": "ITj2FQxu3EZ8"
      }
    },
    {
      "cell_type": "code",
      "source": [
        "X = load_iris().data\n",
        "Y = load_iris().target\n",
        "X_train, X_test, y_train, y_test = train_test_split(X, Y, test_size=0.2)"
      ],
      "metadata": {
        "id": "dCQ3dWVMp2KO"
      },
      "execution_count": 12,
      "outputs": []
    },
    {
      "cell_type": "code",
      "source": [
        "#out algorithm\n",
        "model = LogRegS(0.01,1000)\n",
        "model.fit(X_train, y_train)\n",
        "sum(model.predict(X_test) == y_test)/len(y_test)"
      ],
      "metadata": {
        "id": "AkLhIbGPp2S9",
        "colab": {
          "base_uri": "https://localhost:8080/"
        },
        "outputId": "d423cee4-b366-442f-ad9b-900a17eb8a75"
      },
      "execution_count": 13,
      "outputs": [
        {
          "output_type": "execute_result",
          "data": {
            "text/plain": [
              "0.9666666666666667"
            ]
          },
          "metadata": {},
          "execution_count": 13
        }
      ]
    },
    {
      "cell_type": "code",
      "source": [
        "#sklearn algorithm\n",
        "model = LogisticRegression()\n",
        "model.fit(X_train, y_train)\n",
        "sum(model.predict(X_test) == y_test)/len(y_test)"
      ],
      "metadata": {
        "colab": {
          "base_uri": "https://localhost:8080/"
        },
        "id": "EbX9gqNWBKPs",
        "outputId": "d0bf4172-b22a-4ec1-97a9-3ad2aff3e7f8"
      },
      "execution_count": 14,
      "outputs": [
        {
          "output_type": "execute_result",
          "data": {
            "text/plain": [
              "0.9333333333333333"
            ]
          },
          "metadata": {},
          "execution_count": 14
        }
      ]
    }
  ]
}