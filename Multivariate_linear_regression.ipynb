{
  "nbformat": 4,
  "nbformat_minor": 0,
  "metadata": {
    "colab": {
      "provenance": [],
      "collapsed_sections": []
    },
    "kernelspec": {
      "name": "python3",
      "display_name": "Python 3"
    },
    "language_info": {
      "name": "python"
    }
  },
  "cells": [
    {
      "cell_type": "markdown",
      "source": [
        "# Multivariate linear regression"
      ],
      "metadata": {
        "id": "iWEROC7dzzmE"
      }
    },
    {
      "cell_type": "code",
      "execution_count": 26,
      "metadata": {
        "id": "RqakfV4rdOLu"
      },
      "outputs": [],
      "source": [
        "import numpy as np\n",
        "import pandas as pd\n",
        "from sklearn.linear_model import LinearRegression\n",
        "from sklearn.model_selection import train_test_split\n",
        "from sklearn.metrics import r2_score"
      ]
    },
    {
      "cell_type": "markdown",
      "source": [
        "### Algorithm"
      ],
      "metadata": {
        "id": "T32nPMlxznk_"
      }
    },
    {
      "cell_type": "code",
      "source": [
        "class LinearRegressionM:\n",
        "  def __init__(self,LearningRate,NumberOfIteration):\n",
        "    self.weight=None\n",
        "    self.bias=0.0\n",
        "    self.lr=LearningRate\n",
        "    self.numofitr=NumberOfIteration\n",
        "  def predict(self,X):\n",
        "    return np.dot(X,self.weight)+self.bias\n",
        "  def fit(self,X,Y):\n",
        "    N = X.shape[0]\n",
        "    self.weight=np.zeros(X.shape[1])\n",
        "    for _ in range(self.numofitr):\n",
        "      y_predicted  = self.predict(X)\n",
        "      error=y_predicted-Y\n",
        "      self.bias -=  (self.lr / N) * sum(error)\n",
        "      self.weight -= (self.lr/ N)*np.dot(error,X)"
      ],
      "metadata": {
        "id": "rQsicoskdWWr"
      },
      "execution_count": 27,
      "outputs": []
    },
    {
      "cell_type": "markdown",
      "source": [
        "### Normalization"
      ],
      "metadata": {
        "id": "dPhsnDpWzYgS"
      }
    },
    {
      "cell_type": "code",
      "source": [
        "def meanN(features):\n",
        "    if not isinstance(features, pd.DataFrame): #convert the data to pandas dataframe\n",
        "      features=pd.DataFrame(features)\n",
        "    features=features.astype(float)\n",
        "    if features.ndim==1:\n",
        "      for i in range(len(features)):\n",
        "        fmean = np.mean(features)\n",
        "        frange = np.amax(features) - np.amin(features)\n",
        "        features[i] -= fmean\n",
        "        features[i] /= frange\n",
        "    else:    \n",
        "      for feature in features:\n",
        "          df=features[feature].values\n",
        "          fmean = np.mean(df)\n",
        "          frange = np.amax(df) - np.amin(df)\n",
        "          df -= fmean\n",
        "          df /= frange\n",
        "    return features\n",
        "\n",
        "def minMaxN(features):\n",
        "    if not isinstance(features, pd.DataFrame):\n",
        "      features=pd.DataFrame(features)\n",
        "    features=features.astype(float)\n",
        "    if features.ndim==1:\n",
        "      for i in range(len(features)):\n",
        "        fmin = np.amin(features)\n",
        "        frange = np.amax(features) - np.amin(features)\n",
        "        features[i] -= fmin\n",
        "        features[i] /= frange\n",
        "    else:    \n",
        "      for feature in features:\n",
        "          df=features[feature].values\n",
        "          fmin = np.amin(df)\n",
        "          frange = np.amax(df) - np.amin(df)\n",
        "          df -= fmin\n",
        "          df /= frange\n",
        "    return features\n",
        "\n",
        "def Znorm(features):\n",
        "    if not isinstance(features, pd.DataFrame):\n",
        "      features=pd.DataFrame(features)\n",
        "    features=features.astype(float)\n",
        "    if features.ndim==1:\n",
        "      for i in range(len(features)):\n",
        "        fmean = np.mean(features)\n",
        "        fstd = np.std(features)\n",
        "        features[i] -= fmean\n",
        "        features[i] /= fstd\n",
        "    else:    \n",
        "      for feature in features:\n",
        "          df=features[feature].values\n",
        "          fmean = np.mean(df)\n",
        "          fstd = np.std(df)\n",
        "          df -= fmean\n",
        "          df /= fstd\n",
        "    return features"
      ],
      "metadata": {
        "id": "ezHT-pMseGbX"
      },
      "execution_count": 28,
      "outputs": []
    },
    {
      "cell_type": "markdown",
      "source": [
        "### Test"
      ],
      "metadata": {
        "id": "CkbzAoaczjrB"
      }
    },
    {
      "cell_type": "code",
      "source": [
        "df=pd.read_csv('advertising.csv')"
      ],
      "metadata": {
        "id": "_9BMB9lweGet"
      },
      "execution_count": 29,
      "outputs": []
    },
    {
      "cell_type": "code",
      "source": [
        "X=df.drop('Sales',axis=1)\n",
        "X=meanN(X) #mean normalization gives the best result\n",
        "y=df['Sales']\n",
        "X_train, X_test, y_train, y_test = train_test_split(X, y, test_size=0.2)"
      ],
      "metadata": {
        "id": "unD4eOaPYN3t"
      },
      "execution_count": 42,
      "outputs": []
    },
    {
      "cell_type": "code",
      "source": [
        "#our algorithm\n",
        "model1=LinearRegressionM(0.03,10000)\n",
        "model1.fit(X_train,y_train)\n",
        "y_pre1=model1.predict(X_test)\n",
        "r2_score(y_test,y_pre1)"
      ],
      "metadata": {
        "colab": {
          "base_uri": "https://localhost:8080/"
        },
        "id": "Irjb93fFeGhj",
        "outputId": "f9873776-7b7c-4828-8fb5-bfec44620b4b"
      },
      "execution_count": 44,
      "outputs": [
        {
          "output_type": "execute_result",
          "data": {
            "text/plain": [
              "0.9003555143009506"
            ]
          },
          "metadata": {},
          "execution_count": 44
        }
      ]
    },
    {
      "cell_type": "code",
      "source": [
        "#sklearn algorithm\n",
        "model=LinearRegression()\n",
        "model.fit(X_train,y_train)\n",
        "y_pre=model.predict(X_test)\n",
        "r2_score(y_test,y_pre)"
      ],
      "metadata": {
        "id": "Y0WII7DleGmz",
        "colab": {
          "base_uri": "https://localhost:8080/"
        },
        "outputId": "ab52e7c8-f191-46fc-fe49-0f5fac74dfa3"
      },
      "execution_count": 43,
      "outputs": [
        {
          "output_type": "execute_result",
          "data": {
            "text/plain": [
              "0.9003563111927937"
            ]
          },
          "metadata": {},
          "execution_count": 43
        }
      ]
    }
  ]
}